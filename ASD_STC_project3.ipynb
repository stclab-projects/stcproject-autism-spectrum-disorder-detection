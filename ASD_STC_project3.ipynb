{
 "cells": [
  {
   "cell_type": "markdown",
   "metadata": {
    "colab_type": "text",
    "id": "kflWT0nUbHVo"
   },
   "source": [
    "# Statistical and Computational Lab\n",
    "\n",
    "### Collaborators\n",
    "    Siddharth Das     (2017120011)\n",
    "    Anushka Chintrate (2018220066)\n",
    "    Sonal Kamble      (2018220068)\n",
    "#### Mentor\n",
    "    Prof. Dayanand Ambawade"
   ]
  },
  {
   "cell_type": "markdown",
   "metadata": {
    "colab_type": "text",
    "id": "OwS_FLrfeM-p"
   },
   "source": [
    "## START"
   ]
  },
  {
   "cell_type": "code",
   "execution_count": 1,
   "metadata": {
    "colab": {
     "base_uri": "https://localhost:8080/",
     "height": 34
    },
    "colab_type": "code",
    "id": "K4eRs9dy3XE4",
    "outputId": "d8c74f84-301e-4d2b-be40-8609d0691a0b"
   },
   "outputs": [
    {
     "data": {
      "text/plain": [
       "'/home/nbuser/library'"
      ]
     },
     "execution_count": 1,
     "metadata": {},
     "output_type": "execute_result"
    }
   ],
   "source": [
    "import os\n",
    "os.getcwd()"
   ]
  },
  {
   "cell_type": "code",
   "execution_count": 2,
   "metadata": {
    "colab": {},
    "colab_type": "code",
    "id": "xzt5Ao2SPYe3"
   },
   "outputs": [
    {
     "name": "stdout",
     "output_type": "stream",
     "text": [
      "Requirement already satisfied: docx2txt in /home/nbuser/anaconda3_420/lib/python3.5/site-packages (0.8)\r\n"
     ]
    }
   ],
   "source": [
    "!pip install docx2txt"
   ]
  },
  {
   "cell_type": "code",
   "execution_count": 3,
   "metadata": {
    "colab": {
     "base_uri": "https://localhost:8080/",
     "height": 1000
    },
    "colab_type": "code",
    "id": "IQrkA0etDkuQ",
    "outputId": "dd6a2afd-de69-492c-9a4a-3f0bbb387329",
    "scrolled": true
   },
   "outputs": [
    {
     "name": "stdout",
     "output_type": "stream",
     "text": [
      "Data Set Name: Autistic Spectrum Disorder Screening Data for Adult  \n",
      "\n",
      "Abstract: Autistic Spectrum Disorder (ASD) is a neurodevelopment  condition associated with significant healthcare costs, and early diagnosis can significantly reduce these. Unfortunately, waiting times for an ASD diagnosis are lengthy and procedures are not cost effective. The economic impact of autism and the increase in the number of ASD cases across the world reveals an urgent need for the development of easily implemented and effective screening methods. Therefore, a time-efficient and accessible ASD screening is imminent to help health professionals and inform individuals whether they should pursue formal clinical diagnosis.  The rapid growth in the number of ASD cases worldwide necessitates datasets related to behaviour traits. However, such datasets are rare making it difficult to perform thorough analyses to improve the efficiency, sensitivity, specificity and predictive accuracy of the ASD screening process. Presently, very limited autism datasets associated with clinical or screening are available and most of them are genetic in nature. Hence, we propose a new dataset related to autism screening of adults that contained 20 features to be utilised for further analysis especially in determining influential autistic traits and improving the classification of ASD cases. In this dataset, we record ten behavioural features (AQ-10-Adult) plus ten individuals characteristics that have proved to be effective in detecting the ASD cases from controls in behaviour science. \n",
      "\n",
      "Source: Fadi Fayez Thabtah\n",
      "\n",
      "Department of Digital Technology\n",
      "\n",
      "Manukau Institute of Technology,\n",
      "\n",
      "Auckland, New Zealand\n",
      "\n",
      "fadi.fayez@manukau.ac.nz\n",
      "\n",
      "Data Type: Multivariate OR Univariate OR Sequential OR Time-Series OR Text OR Domain-Theory\n",
      "\n",
      "Nominal / categorical, binary and continuous \n",
      "\n",
      "Task: Classification\n",
      "\n",
      "Attribute Type: Categorical, continuous and binary  \n",
      "\n",
      "Area: Medical, health and social science\n",
      "\n",
      "Format Type: Non-Matrix\n",
      "\n",
      "Does your data set contain missing values? Yes\n",
      "\n",
      "Number of Instances (records in your data set): 704\n",
      "\n",
      "Number of Attributes (fields within each record): 21\n",
      "\n",
      "Relevant Information: For Further information about the attributes/feature see below  table.\n",
      "\n",
      "\n",
      "\n",
      "Table 1: Features and their descriptions \n",
      "\n",
      "Attribute  \n",
      "\n",
      "Type\n",
      "\n",
      "Description \n",
      "\n",
      "Age \n",
      "\n",
      "Number \n",
      "\n",
      "Age in years \n",
      "\n",
      "Gender \n",
      "\n",
      "String \n",
      "\n",
      "Male or Female \n",
      "\n",
      "Ethnicity\n",
      "\n",
      "String\n",
      "\n",
      "List of common ethnicities in text format \n",
      "\n",
      "Born with jaundice\n",
      "\n",
      "Boolean  (yes or no)\n",
      "\n",
      "Whether the case was born with jaundice\n",
      "\n",
      "Family member with PDD\n",
      "\n",
      "Boolean  (yes or no)\n",
      "\n",
      "Whether any immediate family member has a PDD \n",
      "\n",
      "Who is completing the test\n",
      "\n",
      "String \n",
      "\n",
      "Parent, self, caregiver, medical staff, clinician ,etc.\n",
      "\n",
      "Country of residence \n",
      "\n",
      "String\n",
      "\n",
      "List of countries in text format\n",
      "\n",
      "Used the screening app before \n",
      "\n",
      "Boolean  (yes or no)\n",
      "\n",
      "Whether the user has used a screening app\n",
      "\n",
      "Screening Method Type \n",
      "\n",
      "Integer (0,1,2,3)\n",
      "\n",
      "The type of screening methods chosen based on age category (0=toddler, 1=child, 2= adolescent, 3= adult)\n",
      "\n",
      "Question 1 Answer \n",
      "\n",
      "Binary (0, 1)\n",
      "\n",
      "The answer code of the question based on the screening method used  \n",
      "\n",
      "Question 2 Answer \n",
      "\n",
      "Binary (0, 1)\n",
      "\n",
      "The answer code of the question based on the screening method used  \n",
      "\n",
      "Question 3 Answer \n",
      "\n",
      "Binary (0, 1)\n",
      "\n",
      "The answer code of the question based on the screening method used  \n",
      "\n",
      "Question 4 Answer \n",
      "\n",
      "Binary (0, 1)\n",
      "\n",
      "The answer code of the question based on the screening method used  \n",
      "\n",
      "Question 5 Answer \n",
      "\n",
      "Binary (0, 1)\n",
      "\n",
      "The answer code of the question based on the screening method used  \n",
      "\n",
      "Question 6 Answer \n",
      "\n",
      "Binary (0, 1)\n",
      "\n",
      "The answer code of the question based on the screening method used  \n",
      "\n",
      "Question 7 Answer \n",
      "\n",
      "Binary (0, 1)\n",
      "\n",
      "The answer code of the question based on the screening method used  \n",
      "\n",
      "Question 8 Answer \n",
      "\n",
      "Binary (0, 1)\n",
      "\n",
      "The answer code of the question based on the screening method used  \n",
      "\n",
      "Question 9 Answer \n",
      "\n",
      "Binary (0, 1)\n",
      "\n",
      "The answer code of the question based on the screening method used  \n",
      "\n",
      "Question 10 Answer \n",
      "\n",
      "Binary (0, 1)\n",
      "\n",
      "The answer code of the question based on the screening method used  \n",
      "\n",
      "Screening Score \n",
      "\n",
      "Integer \n",
      "\n",
      "The final score obtained based on the scoring algorithm of the screening method used. This was computed in an automated manner\n",
      "\n",
      "\n",
      "\n",
      "\n",
      "\n",
      "\n",
      "\n",
      "Table 1: Features and their descriptions \n",
      "\n",
      "Attribute  \n",
      "\n",
      "Type\n",
      "\n",
      "Description \n",
      "\n",
      "Age \n",
      "\n",
      "Number \n",
      "\n",
      "Age in years \n",
      "\n",
      "Gender \n",
      "\n",
      "String \n",
      "\n",
      "Male or Female \n",
      "\n",
      "Ethnicity\n",
      "\n",
      "String\n",
      "\n",
      "List of common ethnicities in text format \n",
      "\n",
      "Born with jaundice\n",
      "\n",
      "Boolean  (yes or no)\n",
      "\n",
      "Whether the case was born with jaundice\n",
      "\n",
      "Family member with PDD\n",
      "\n",
      "Boolean  (yes or no)\n",
      "\n",
      "Whether any immediate family member has a PDD \n",
      "\n",
      "Who is completing the test\n",
      "\n",
      "String \n",
      "\n",
      "Parent, self, caregiver, medical staff, clinician ,etc.\n",
      "\n",
      "Country of residence \n",
      "\n",
      "String\n",
      "\n",
      "List of countries in text format\n",
      "\n",
      "Used the screening app before \n",
      "\n",
      "Boolean  (yes or no)\n",
      "\n",
      "Whether the user has used a screening app\n",
      "\n",
      "Screening Method Type \n",
      "\n",
      "Integer (0,1,2,3)\n",
      "\n",
      "The type of screening methods chosen based on age category (0=toddler, 1=child, 2= adolescent, 3= adult)\n",
      "\n",
      "Question 1 Answer \n",
      "\n",
      "Binary (0, 1)\n",
      "\n",
      "The answer code of the question based on the screening method used  \n",
      "\n",
      "Question 2 Answer \n",
      "\n",
      "Binary (0, 1)\n",
      "\n",
      "The answer code of the question based on the screening method used  \n",
      "\n",
      "Question 3 Answer \n",
      "\n",
      "Binary (0, 1)\n",
      "\n",
      "The answer code of the question based on the screening method used  \n",
      "\n",
      "Question 4 Answer \n",
      "\n",
      "Binary (0, 1)\n",
      "\n",
      "The answer code of the question based on the screening method used  \n",
      "\n",
      "Question 5 Answer \n",
      "\n",
      "Binary (0, 1)\n",
      "\n",
      "The answer code of the question based on the screening method used  \n",
      "\n",
      "Question 6 Answer \n",
      "\n",
      "Binary (0, 1)\n",
      "\n",
      "The answer code of the question based on the screening method used  \n",
      "\n",
      "Question 7 Answer \n",
      "\n",
      "Binary (0, 1)\n",
      "\n",
      "The answer code of the question based on the screening method used  \n",
      "\n",
      "Question 8 Answer \n",
      "\n",
      "Binary (0, 1)\n",
      "\n",
      "The answer code of the question based on the screening method used  \n",
      "\n",
      "Question 9 Answer \n",
      "\n",
      "Binary (0, 1)\n",
      "\n",
      "The answer code of the question based on the screening method used  \n",
      "\n",
      "Question 10 Answer \n",
      "\n",
      "Binary (0, 1)\n",
      "\n",
      "The answer code of the question based on the screening method used  \n",
      "\n",
      "Screening Score \n",
      "\n",
      "Integer \n",
      "\n",
      "The final score obtained based on the scoring algorithm of the screening method used. This was computed in an automated manner\n",
      "\n",
      "\n",
      "\n",
      "\n",
      "\n",
      "Attribute Information:\n",
      "\n",
      "\n",
      "\n",
      "Relevant Papers:  \n",
      "\n",
      "1) Tabtah, F. (2017). Autism Spectrum Disorder Screening: Machine Learning Adaptation and DSM-5 Fulfillment. Proceedings of the 1st International Conference on Medical and Health Informatics 2017, pp.1-6. Taichung City, Taiwan, ACM.\n",
      "\n",
      "2) Thabtah, F. (2017). ASDTests. A mobile app for ASD screening. www.asdtests.com [accessed December  20th, 2017].\n",
      "\n",
      "3) Thabtah, F. (2017). Machine Learning in Autistic Spectrum Disorder Behavioural Research: A Review. To Appear in Informatics for Health and Social Care Journal. December, 2017 (in press)\n",
      "\n",
      "Citation Request:\n",
      "\n",
      "Please refer to the Machine Learning Repository's citation policy\n",
      "\n",
      "Data File: I will submit two files. 1- the word document “description file” and 2- the dataset “WordPad”\n"
     ]
    }
   ],
   "source": [
    "import docx2txt\n",
    "description = docx2txt.process('./Autism-Screening-Adult-Data Description.docx')\n",
    "print(description)"
   ]
  },
  {
   "cell_type": "markdown",
   "metadata": {
    "colab_type": "text",
    "id": "RGOfnkH-Mzeq"
   },
   "source": [
    "### Load python modules "
   ]
  },
  {
   "cell_type": "code",
   "execution_count": 4,
   "metadata": {
    "colab": {},
    "colab_type": "code",
    "id": "EVtHON0d3Yir"
   },
   "outputs": [],
   "source": [
    "import scipy as sp\n",
    "import numpy as np\n",
    "import pandas as pd\n",
    "import seaborn as sns\n",
    "import matplotlib.pyplot as plt\n",
    "%matplotlib inline"
   ]
  },
  {
   "cell_type": "code",
   "execution_count": 5,
   "metadata": {},
   "outputs": [],
   "source": [
    "import warnings\n",
    "warnings.simplefilter('ignore')"
   ]
  },
  {
   "cell_type": "markdown",
   "metadata": {
    "colab_type": "text",
    "id": "8ALVDy6MNI0z"
   },
   "source": [
    "### Load dataset"
   ]
  },
  {
   "cell_type": "code",
   "execution_count": 6,
   "metadata": {
    "colab": {},
    "colab_type": "code",
    "id": "pk2H2j6jFuhn"
   },
   "outputs": [],
   "source": [
    "# Do not use 'DATASET' directly; make a copy to avoid making changes to the original file.\n",
    "DATASET = pd.read_csv('./Toddler Autism dataset July 2018.csv')"
   ]
  },
  {
   "cell_type": "code",
   "execution_count": 7,
   "metadata": {
    "colab": {},
    "colab_type": "code",
    "id": "1FYk4XCXGKi7"
   },
   "outputs": [],
   "source": [
    "# For an added layer of abstract protection\n",
    "data = DATASET\n",
    "\n",
    "# Use this dataframe\n",
    "df = data"
   ]
  },
  {
   "cell_type": "markdown",
   "metadata": {
    "colab_type": "text",
    "id": "Ob1P9nCAfpy9"
   },
   "source": [
    "### EDA"
   ]
  },
  {
   "cell_type": "code",
   "execution_count": 8,
   "metadata": {
    "colab": {
     "base_uri": "https://localhost:8080/",
     "height": 313
    },
    "colab_type": "code",
    "id": "_T9HfE7mGeAM",
    "outputId": "ba73590b-c6a9-45f6-fa36-f1a975321f0f"
   },
   "outputs": [
    {
     "data": {
      "text/html": [
       "<div>\n",
       "<table class=\"dataframe\">\n",
       "  <thead>\n",
       "    <tr style=\"text-align: right;\">\n",
       "      <th></th>\n",
       "      <th>Case_No</th>\n",
       "      <th>A1</th>\n",
       "      <th>A2</th>\n",
       "      <th>A3</th>\n",
       "      <th>A4</th>\n",
       "      <th>A5</th>\n",
       "      <th>A6</th>\n",
       "      <th>A7</th>\n",
       "      <th>A8</th>\n",
       "      <th>A9</th>\n",
       "      <th>A10</th>\n",
       "      <th>Age_Mons</th>\n",
       "      <th>Qchat-10-Score</th>\n",
       "      <th>Sex</th>\n",
       "      <th>Ethnicity</th>\n",
       "      <th>Jaundice</th>\n",
       "      <th>Family_mem_with_ASD</th>\n",
       "      <th>Who completed the test</th>\n",
       "      <th>Class/ASD Traits</th>\n",
       "    </tr>\n",
       "  </thead>\n",
       "  <tbody>\n",
       "    <tr>\n",
       "      <th>0</th>\n",
       "      <td>1</td>\n",
       "      <td>0</td>\n",
       "      <td>0</td>\n",
       "      <td>0</td>\n",
       "      <td>0</td>\n",
       "      <td>0</td>\n",
       "      <td>0</td>\n",
       "      <td>1</td>\n",
       "      <td>1</td>\n",
       "      <td>0</td>\n",
       "      <td>1</td>\n",
       "      <td>28</td>\n",
       "      <td>3</td>\n",
       "      <td>f</td>\n",
       "      <td>middle eastern</td>\n",
       "      <td>yes</td>\n",
       "      <td>no</td>\n",
       "      <td>family member</td>\n",
       "      <td>No</td>\n",
       "    </tr>\n",
       "    <tr>\n",
       "      <th>1</th>\n",
       "      <td>2</td>\n",
       "      <td>1</td>\n",
       "      <td>1</td>\n",
       "      <td>0</td>\n",
       "      <td>0</td>\n",
       "      <td>0</td>\n",
       "      <td>1</td>\n",
       "      <td>1</td>\n",
       "      <td>0</td>\n",
       "      <td>0</td>\n",
       "      <td>0</td>\n",
       "      <td>36</td>\n",
       "      <td>4</td>\n",
       "      <td>m</td>\n",
       "      <td>White European</td>\n",
       "      <td>yes</td>\n",
       "      <td>no</td>\n",
       "      <td>family member</td>\n",
       "      <td>Yes</td>\n",
       "    </tr>\n",
       "    <tr>\n",
       "      <th>2</th>\n",
       "      <td>3</td>\n",
       "      <td>1</td>\n",
       "      <td>0</td>\n",
       "      <td>0</td>\n",
       "      <td>0</td>\n",
       "      <td>0</td>\n",
       "      <td>0</td>\n",
       "      <td>1</td>\n",
       "      <td>1</td>\n",
       "      <td>0</td>\n",
       "      <td>1</td>\n",
       "      <td>36</td>\n",
       "      <td>4</td>\n",
       "      <td>m</td>\n",
       "      <td>middle eastern</td>\n",
       "      <td>yes</td>\n",
       "      <td>no</td>\n",
       "      <td>family member</td>\n",
       "      <td>Yes</td>\n",
       "    </tr>\n",
       "    <tr>\n",
       "      <th>3</th>\n",
       "      <td>4</td>\n",
       "      <td>1</td>\n",
       "      <td>1</td>\n",
       "      <td>1</td>\n",
       "      <td>1</td>\n",
       "      <td>1</td>\n",
       "      <td>1</td>\n",
       "      <td>1</td>\n",
       "      <td>1</td>\n",
       "      <td>1</td>\n",
       "      <td>1</td>\n",
       "      <td>24</td>\n",
       "      <td>10</td>\n",
       "      <td>m</td>\n",
       "      <td>Hispanic</td>\n",
       "      <td>no</td>\n",
       "      <td>no</td>\n",
       "      <td>family member</td>\n",
       "      <td>Yes</td>\n",
       "    </tr>\n",
       "    <tr>\n",
       "      <th>4</th>\n",
       "      <td>5</td>\n",
       "      <td>1</td>\n",
       "      <td>1</td>\n",
       "      <td>0</td>\n",
       "      <td>1</td>\n",
       "      <td>1</td>\n",
       "      <td>1</td>\n",
       "      <td>1</td>\n",
       "      <td>1</td>\n",
       "      <td>1</td>\n",
       "      <td>1</td>\n",
       "      <td>20</td>\n",
       "      <td>9</td>\n",
       "      <td>f</td>\n",
       "      <td>White European</td>\n",
       "      <td>no</td>\n",
       "      <td>yes</td>\n",
       "      <td>family member</td>\n",
       "      <td>Yes</td>\n",
       "    </tr>\n",
       "  </tbody>\n",
       "</table>\n",
       "</div>"
      ],
      "text/plain": [
       "   Case_No  A1  A2  A3  A4  A5  A6  A7  A8  A9  A10  Age_Mons  Qchat-10-Score  \\\n",
       "0        1   0   0   0   0   0   0   1   1   0    1        28               3   \n",
       "1        2   1   1   0   0   0   1   1   0   0    0        36               4   \n",
       "2        3   1   0   0   0   0   0   1   1   0    1        36               4   \n",
       "3        4   1   1   1   1   1   1   1   1   1    1        24              10   \n",
       "4        5   1   1   0   1   1   1   1   1   1    1        20               9   \n",
       "\n",
       "  Sex       Ethnicity Jaundice Family_mem_with_ASD Who completed the test  \\\n",
       "0   f  middle eastern      yes                  no          family member   \n",
       "1   m  White European      yes                  no          family member   \n",
       "2   m  middle eastern      yes                  no          family member   \n",
       "3   m        Hispanic       no                  no          family member   \n",
       "4   f  White European       no                 yes          family member   \n",
       "\n",
       "  Class/ASD Traits   \n",
       "0                No  \n",
       "1               Yes  \n",
       "2               Yes  \n",
       "3               Yes  \n",
       "4               Yes  "
      ]
     },
     "execution_count": 8,
     "metadata": {},
     "output_type": "execute_result"
    }
   ],
   "source": [
    "df.head()"
   ]
  },
  {
   "cell_type": "code",
   "execution_count": 9,
   "metadata": {
    "colab": {
     "base_uri": "https://localhost:8080/",
     "height": 87
    },
    "colab_type": "code",
    "id": "5aYmDvb4K_2f",
    "outputId": "1ac2b4b3-1bc8-4a1d-bcea-2407ae3cdee2",
    "scrolled": true
   },
   "outputs": [
    {
     "data": {
      "text/plain": [
       "Index(['Case_No', 'A1', 'A2', 'A3', 'A4', 'A5', 'A6', 'A7', 'A8', 'A9', 'A10',\n",
       "       'Age_Mons', 'Qchat-10-Score', 'Sex', 'Ethnicity', 'Jaundice',\n",
       "       'Family_mem_with_ASD', 'Who completed the test', 'Class/ASD Traits '],\n",
       "      dtype='object')"
      ]
     },
     "execution_count": 9,
     "metadata": {},
     "output_type": "execute_result"
    }
   ],
   "source": [
    "df.columns"
   ]
  },
  {
   "cell_type": "code",
   "execution_count": 10,
   "metadata": {},
   "outputs": [
    {
     "name": "stdout",
     "output_type": "stream",
     "text": [
      "<class 'pandas.core.frame.DataFrame'>\n",
      "RangeIndex: 1054 entries, 0 to 1053\n",
      "Data columns (total 19 columns):\n",
      "Case_No                   1054 non-null int64\n",
      "A1                        1054 non-null int64\n",
      "A2                        1054 non-null int64\n",
      "A3                        1054 non-null int64\n",
      "A4                        1054 non-null int64\n",
      "A5                        1054 non-null int64\n",
      "A6                        1054 non-null int64\n",
      "A7                        1054 non-null int64\n",
      "A8                        1054 non-null int64\n",
      "A9                        1054 non-null int64\n",
      "A10                       1054 non-null int64\n",
      "Age_Mons                  1054 non-null int64\n",
      "Qchat-10-Score            1054 non-null int64\n",
      "Sex                       1054 non-null object\n",
      "Ethnicity                 1054 non-null object\n",
      "Jaundice                  1054 non-null object\n",
      "Family_mem_with_ASD       1054 non-null object\n",
      "Who completed the test    1054 non-null object\n",
      "Class/ASD Traits          1054 non-null object\n",
      "dtypes: int64(13), object(6)\n",
      "memory usage: 156.5+ KB\n"
     ]
    }
   ],
   "source": [
    "df.info()"
   ]
  },
  {
   "cell_type": "markdown",
   "metadata": {
    "colab_type": "text",
    "id": "z4J-kDCmfmx0"
   },
   "source": [
    "### Label encode"
   ]
  },
  {
   "cell_type": "code",
   "execution_count": 11,
   "metadata": {
    "colab": {
     "base_uri": "https://localhost:8080/",
     "height": 334
    },
    "colab_type": "code",
    "id": "PbUJDjTK1y7l",
    "outputId": "720cdeaa-986d-46c9-ce06-2f091725a7d2"
   },
   "outputs": [
    {
     "name": "stdout",
     "output_type": "stream",
     "text": [
      "\n",
      "Who completed the test:- \n",
      "\t ['family member' 'Health Care Professional' 'Health care professional'\n",
      " 'Self' 'Others'] \n",
      "Family_mem_with_ASD:- \n",
      "\t ['no' 'yes'] \n",
      "Jaundice:- \n",
      "\t ['yes' 'no'] \n",
      "Ethnicity:- \n",
      "\t ['middle eastern' 'White European' 'Hispanic' 'black' 'asian'\n",
      " 'south asian' 'Native Indian' 'Others' 'Latino' 'mixed' 'Pacifica'] \n",
      "Sex:- \n",
      "\t ['f' 'm'] \n",
      "Qchat-10-Score:- \n",
      "\t [ 3  4 10  9  8  5  6  2  0  7  1] \n",
      "Age_Mons:- \n",
      "\t [28 36 24 20 21 33 22 17 25 15 18 12 29 35 32 19 14 13 30 23 34 26 31 27\n",
      " 16]\n"
     ]
    }
   ],
   "source": [
    "# Label encoding helps in handling the categorical variables elegantly\n",
    "\n",
    "print('\\nWho completed the test:- \\n\\t',\n",
    "      df['Who completed the test'].unique(),\n",
    "      '\\nFamily_mem_with_ASD:- \\n\\t',\n",
    "      df['Family_mem_with_ASD'].unique(),\n",
    "      '\\nJaundice:- \\n\\t',\n",
    "      df['Jaundice'].unique(),\n",
    "      '\\nEthnicity:- \\n\\t',\n",
    "      df['Ethnicity'].unique(),\n",
    "      '\\nSex:- \\n\\t',\n",
    "      df['Sex'].unique(),\n",
    "      '\\nQchat-10-Score:- \\n\\t',\n",
    "      df['Qchat-10-Score'].unique(),\n",
    "      '\\nAge_Mons:- \\n\\t',\n",
    "      df['Age_Mons'].unique())"
   ]
  },
  {
   "cell_type": "code",
   "execution_count": 12,
   "metadata": {
    "colab": {
     "base_uri": "https://localhost:8080/",
     "height": 316
    },
    "colab_type": "code",
    "id": "CRSf5NZuLFe7",
    "outputId": "9df9b829-4e94-4149-81dd-c0e8f268ec68"
   },
   "outputs": [
    {
     "name": "stdout",
     "output_type": "stream",
     "text": [
      "['f' 'm']\n",
      "[0 1] \n",
      "\n",
      "['middle eastern' 'White European' 'Hispanic' 'black' 'asian'\n",
      " 'south asian' 'Native Indian' 'Others' 'Latino' 'mixed' 'Pacifica']\n",
      "[ 8  5  0  7  6 10  2  3  1  9  4] \n",
      "\n",
      "['yes' 'no']\n",
      "[1 0] \n",
      "\n",
      "['no' 'yes']\n",
      "[0 1] \n",
      "\n",
      "['family member' 'Health Care Professional' 'Health care professional'\n",
      " 'Self' 'Others']\n",
      "[4 0 1 3 2] \n",
      "\n"
     ]
    }
   ],
   "source": [
    "# Import label encoder \n",
    "from sklearn import preprocessing \n",
    " \n",
    "# label_encoder object knows how to understand word labels. \n",
    "label_encoder = preprocessing.LabelEncoder() \n",
    "\n",
    "# Encode labels in column 'species'. \n",
    "print(df['Sex'].unique())\n",
    "df['Sex']= label_encoder.fit_transform(df['Sex']) \n",
    "print(df['Sex'].unique(), '\\n')\n",
    "\n",
    "print(df['Ethnicity'].unique())\n",
    "df['Ethnicity']= label_encoder.fit_transform(df['Ethnicity']) \n",
    "print(df['Ethnicity'].unique(), '\\n')\n",
    "\n",
    "print(df['Jaundice'].unique())\n",
    "df['Jaundice']= label_encoder.fit_transform(df['Jaundice']) \n",
    "print(df['Jaundice'].unique(), '\\n')\n",
    "\n",
    "print(df['Family_mem_with_ASD'].unique())\n",
    "df['Family_mem_with_ASD']= label_encoder.fit_transform(df['Family_mem_with_ASD']) \n",
    "print(df['Family_mem_with_ASD'].unique(), '\\n')\n",
    "\n",
    "print(df['Who completed the test'].unique())\n",
    "df['Who completed the test']= label_encoder.fit_transform(df['Who completed the test']) \n",
    "print(df['Who completed the test'].unique(), '\\n')"
   ]
  },
  {
   "cell_type": "code",
   "execution_count": 13,
   "metadata": {
    "colab": {
     "base_uri": "https://localhost:8080/",
     "height": 249
    },
    "colab_type": "code",
    "id": "r9eDk1go15bM",
    "outputId": "7efeaa3e-0068-4605-91c3-e3c40f937cc3"
   },
   "outputs": [
    {
     "data": {
      "text/html": [
       "<div>\n",
       "<table class=\"dataframe\">\n",
       "  <thead>\n",
       "    <tr style=\"text-align: right;\">\n",
       "      <th></th>\n",
       "      <th>Case_No</th>\n",
       "      <th>A1</th>\n",
       "      <th>A2</th>\n",
       "      <th>A3</th>\n",
       "      <th>A4</th>\n",
       "      <th>A5</th>\n",
       "      <th>A6</th>\n",
       "      <th>A7</th>\n",
       "      <th>A8</th>\n",
       "      <th>A9</th>\n",
       "      <th>A10</th>\n",
       "      <th>Age_Mons</th>\n",
       "      <th>Qchat-10-Score</th>\n",
       "      <th>Sex</th>\n",
       "      <th>Ethnicity</th>\n",
       "      <th>Jaundice</th>\n",
       "      <th>Family_mem_with_ASD</th>\n",
       "      <th>Who completed the test</th>\n",
       "      <th>Class/ASD Traits</th>\n",
       "    </tr>\n",
       "  </thead>\n",
       "  <tbody>\n",
       "    <tr>\n",
       "      <th>849</th>\n",
       "      <td>850</td>\n",
       "      <td>0</td>\n",
       "      <td>0</td>\n",
       "      <td>0</td>\n",
       "      <td>0</td>\n",
       "      <td>0</td>\n",
       "      <td>1</td>\n",
       "      <td>1</td>\n",
       "      <td>1</td>\n",
       "      <td>1</td>\n",
       "      <td>0</td>\n",
       "      <td>36</td>\n",
       "      <td>4</td>\n",
       "      <td>1</td>\n",
       "      <td>6</td>\n",
       "      <td>0</td>\n",
       "      <td>0</td>\n",
       "      <td>4</td>\n",
       "      <td>Yes</td>\n",
       "    </tr>\n",
       "    <tr>\n",
       "      <th>574</th>\n",
       "      <td>575</td>\n",
       "      <td>0</td>\n",
       "      <td>1</td>\n",
       "      <td>1</td>\n",
       "      <td>1</td>\n",
       "      <td>1</td>\n",
       "      <td>0</td>\n",
       "      <td>1</td>\n",
       "      <td>1</td>\n",
       "      <td>0</td>\n",
       "      <td>1</td>\n",
       "      <td>36</td>\n",
       "      <td>7</td>\n",
       "      <td>0</td>\n",
       "      <td>5</td>\n",
       "      <td>1</td>\n",
       "      <td>1</td>\n",
       "      <td>4</td>\n",
       "      <td>Yes</td>\n",
       "    </tr>\n",
       "    <tr>\n",
       "      <th>389</th>\n",
       "      <td>390</td>\n",
       "      <td>1</td>\n",
       "      <td>0</td>\n",
       "      <td>0</td>\n",
       "      <td>0</td>\n",
       "      <td>0</td>\n",
       "      <td>1</td>\n",
       "      <td>0</td>\n",
       "      <td>1</td>\n",
       "      <td>0</td>\n",
       "      <td>0</td>\n",
       "      <td>25</td>\n",
       "      <td>3</td>\n",
       "      <td>1</td>\n",
       "      <td>5</td>\n",
       "      <td>0</td>\n",
       "      <td>0</td>\n",
       "      <td>4</td>\n",
       "      <td>No</td>\n",
       "    </tr>\n",
       "    <tr>\n",
       "      <th>950</th>\n",
       "      <td>951</td>\n",
       "      <td>1</td>\n",
       "      <td>1</td>\n",
       "      <td>1</td>\n",
       "      <td>1</td>\n",
       "      <td>1</td>\n",
       "      <td>1</td>\n",
       "      <td>1</td>\n",
       "      <td>1</td>\n",
       "      <td>0</td>\n",
       "      <td>1</td>\n",
       "      <td>27</td>\n",
       "      <td>9</td>\n",
       "      <td>1</td>\n",
       "      <td>7</td>\n",
       "      <td>0</td>\n",
       "      <td>1</td>\n",
       "      <td>4</td>\n",
       "      <td>Yes</td>\n",
       "    </tr>\n",
       "    <tr>\n",
       "      <th>304</th>\n",
       "      <td>305</td>\n",
       "      <td>1</td>\n",
       "      <td>0</td>\n",
       "      <td>1</td>\n",
       "      <td>1</td>\n",
       "      <td>0</td>\n",
       "      <td>1</td>\n",
       "      <td>1</td>\n",
       "      <td>1</td>\n",
       "      <td>1</td>\n",
       "      <td>0</td>\n",
       "      <td>36</td>\n",
       "      <td>7</td>\n",
       "      <td>1</td>\n",
       "      <td>5</td>\n",
       "      <td>0</td>\n",
       "      <td>0</td>\n",
       "      <td>4</td>\n",
       "      <td>Yes</td>\n",
       "    </tr>\n",
       "  </tbody>\n",
       "</table>\n",
       "</div>"
      ],
      "text/plain": [
       "     Case_No  A1  A2  A3  A4  A5  A6  A7  A8  A9  A10  Age_Mons  \\\n",
       "849      850   0   0   0   0   0   1   1   1   1    0        36   \n",
       "574      575   0   1   1   1   1   0   1   1   0    1        36   \n",
       "389      390   1   0   0   0   0   1   0   1   0    0        25   \n",
       "950      951   1   1   1   1   1   1   1   1   0    1        27   \n",
       "304      305   1   0   1   1   0   1   1   1   1    0        36   \n",
       "\n",
       "     Qchat-10-Score  Sex  Ethnicity  Jaundice  Family_mem_with_ASD  \\\n",
       "849               4    1          6         0                    0   \n",
       "574               7    0          5         1                    1   \n",
       "389               3    1          5         0                    0   \n",
       "950               9    1          7         0                    1   \n",
       "304               7    1          5         0                    0   \n",
       "\n",
       "     Who completed the test Class/ASD Traits   \n",
       "849                       4               Yes  \n",
       "574                       4               Yes  \n",
       "389                       4                No  \n",
       "950                       4               Yes  \n",
       "304                       4               Yes  "
      ]
     },
     "execution_count": 13,
     "metadata": {},
     "output_type": "execute_result"
    }
   ],
   "source": [
    "df.sample(n=5)"
   ]
  },
  {
   "cell_type": "markdown",
   "metadata": {
    "colab_type": "text",
    "id": "qKgblJf6eNQV"
   },
   "source": [
    "### Logistic regression"
   ]
  },
  {
   "cell_type": "code",
   "execution_count": 14,
   "metadata": {
    "colab": {},
    "colab_type": "code",
    "id": "3hQNVF2CN2gK"
   },
   "outputs": [],
   "source": [
    "# split dataset in features and target variable\n",
    "feature_cols = ['A1','A2','A3','A4','A5','A6','A7','A8','A9','A10','Age_Mons', \n",
    "                'Qchat-10-Score', 'Sex', 'Ethnicity','Jaundice','Family_mem_with_ASD','Who completed the test','Class/ASD Traits ']\n",
    "\n",
    "# Features\n",
    "X = df.iloc[:,1:17]\n",
    "\n",
    "# Target variable\n",
    "y = df.iloc[:,18]\n",
    "\n",
    "# Import train_test_split function\n",
    "from sklearn.model_selection import train_test_split\n",
    "\n",
    "# Split dataset into training set and test set\n",
    "X_train, X_test, y_train, y_test = train_test_split(X, y, test_size=0.3) # 70% training and 30% test"
   ]
  },
  {
   "cell_type": "code",
   "execution_count": 15,
   "metadata": {
    "colab": {},
    "colab_type": "code",
    "id": "5rluCglTOJ_f"
   },
   "outputs": [],
   "source": [
    "# import the class\n",
    "from sklearn.linear_model import LogisticRegression\n",
    "\n",
    "# instantiate the model (using the default parameters)\n",
    "logreg = LogisticRegression()"
   ]
  },
  {
   "cell_type": "code",
   "execution_count": 16,
   "metadata": {
    "colab": {
     "base_uri": "https://localhost:8080/",
     "height": 160
    },
    "colab_type": "code",
    "id": "iIdzb_p2O4Jn",
    "outputId": "96ac9890-9743-4f5e-d323-0be77b019069"
   },
   "outputs": [
    {
     "data": {
      "text/plain": [
       "LogisticRegression(C=1.0, class_weight=None, dual=False, fit_intercept=True,\n",
       "          intercept_scaling=1, max_iter=100, multi_class='ovr', n_jobs=1,\n",
       "          penalty='l2', random_state=None, solver='liblinear', tol=0.0001,\n",
       "          verbose=0, warm_start=False)"
      ]
     },
     "execution_count": 16,
     "metadata": {},
     "output_type": "execute_result"
    }
   ],
   "source": [
    "# fit the model\n",
    "logreg.fit(X_train,y_train)"
   ]
  },
  {
   "cell_type": "code",
   "execution_count": 17,
   "metadata": {
    "colab": {},
    "colab_type": "code",
    "id": "DiN9y9kc3yFU"
   },
   "outputs": [],
   "source": [
    "y_pred = logreg.predict(X_test)"
   ]
  },
  {
   "cell_type": "code",
   "execution_count": 18,
   "metadata": {
    "colab": {
     "base_uri": "https://localhost:8080/",
     "height": 52
    },
    "colab_type": "code",
    "id": "xEKKribZ30Pj",
    "outputId": "988546d2-3814-4572-9152-9b3a46b820c9"
   },
   "outputs": [
    {
     "data": {
      "text/plain": [
       "array([[ 99,   6],\n",
       "       [  0, 212]])"
      ]
     },
     "execution_count": 18,
     "metadata": {},
     "output_type": "execute_result"
    }
   ],
   "source": [
    "# import the metrics class\n",
    "from sklearn import metrics\n",
    "cnf_matrix = metrics.confusion_matrix(y_test, y_pred)\n",
    "cnf_matrix"
   ]
  },
  {
   "cell_type": "markdown",
   "metadata": {
    "colab_type": "text",
    "id": "_sKpj1vbeNhG"
   },
   "source": [
    "### Random forest classifier"
   ]
  },
  {
   "cell_type": "code",
   "execution_count": 19,
   "metadata": {
    "colab": {
     "base_uri": "https://localhost:8080/",
     "height": 132
    },
    "colab_type": "code",
    "id": "0gzly-J-J2lq",
    "outputId": "df6e468a-67ad-4ba5-c443-3e51cb3e519a"
   },
   "outputs": [],
   "source": [
    "# Import train_test_split function\n",
    "from sklearn.model_selection import train_test_split\n",
    "\n",
    "X1=df[['Case_No', 'A1', 'A2', 'A3', 'A4', 'A5', 'A6', 'A7', 'A8', 'A9', 'A10',\n",
    "       'Age_Mons', 'Qchat-10-Score', 'Sex', 'Ethnicity', 'Jaundice',\n",
    "       'Family_mem_with_ASD', 'Who completed the test']]  # Features\n",
    "y1=df['Class/ASD Traits ']  # Labels\n",
    "\n",
    "# Split dataset into training set and test set\n",
    "X1_train, X1_test, y1_train, y1_test = train_test_split(X1, y1, test_size=0.3) # 70% training and 30% test"
   ]
  },
  {
   "cell_type": "code",
   "execution_count": 20,
   "metadata": {
    "colab": {
     "base_uri": "https://localhost:8080/",
     "height": 238
    },
    "colab_type": "code",
    "id": "qCXmWzle2gPg",
    "outputId": "af3bf3d1-feb2-4a09-a4df-e2d7a12963c8"
   },
   "outputs": [
    {
     "name": "stderr",
     "output_type": "stream",
     "text": [
      "/home/nbuser/anaconda3_420/lib/python3.5/site-packages/sklearn/ensemble/weight_boosting.py:29: DeprecationWarning: numpy.core.umath_tests is an internal NumPy module and should not be imported. It will be removed in a future NumPy release.\n",
      "  from numpy.core.umath_tests import inner1d\n"
     ]
    },
    {
     "name": "stdout",
     "output_type": "stream",
     "text": [
      "Accuracy: 1.0\n"
     ]
    },
    {
     "data": {
      "text/plain": [
       "array(['Yes'], dtype=object)"
      ]
     },
     "execution_count": 20,
     "metadata": {},
     "output_type": "execute_result"
    }
   ],
   "source": [
    "# Import Random Forest Model\n",
    "from sklearn.ensemble import RandomForestClassifier\n",
    "\n",
    "# Create a Gaussian Classifier\n",
    "clf=RandomForestClassifier(n_estimators=100, criterion='entropy')\n",
    "\n",
    "# Train the model using the training sets y_pred=clf.predict(X_test)\n",
    "clf.fit(X1_train,y1_train)\n",
    "\n",
    "y1_pred=clf.predict(X1_test)\n",
    "\n",
    "# Import scikit-learn metrics module for accuracy calculation\n",
    "from sklearn import metrics\n",
    "\n",
    "# Model Accuracy, how often is the classifier correct?\n",
    "print(\"Accuracy:\",metrics.accuracy_score(y1_test, y1_pred))\n",
    "\n",
    "#predict\n",
    "clf.predict([[522, 0, 0, 1, 1, 1, 0, 0, 1, 1, 0, 19, 5, 1, 1, 0, 0, 1]])"
   ]
  },
  {
   "cell_type": "markdown",
   "metadata": {
    "colab_type": "text",
    "id": "nEnnoOWe2t0B"
   },
   "source": [
    "### Feature extraction"
   ]
  },
  {
   "cell_type": "code",
   "execution_count": 21,
   "metadata": {
    "colab": {},
    "colab_type": "code",
    "id": "g0f_V9nO3Bx_"
   },
   "outputs": [
    {
     "data": {
      "text/plain": [
       "Sex                       0.519342\n",
       "A10                       0.125684\n",
       "A7                        0.054240\n",
       "A8                        0.048884\n",
       "A5                        0.048293\n",
       "A6                        0.044331\n",
       "A3                        0.038912\n",
       "A9                        0.029527\n",
       "A2                        0.028963\n",
       "A4                        0.012682\n",
       "Qchat-10-Score            0.012503\n",
       "A1                        0.011637\n",
       "Age_Mons                  0.008206\n",
       "Jaundice                  0.007396\n",
       "Family_mem_with_ASD       0.003590\n",
       "Ethnicity                 0.002218\n",
       "Who completed the test    0.002047\n",
       "Class/ASD Traits          0.001544\n",
       "dtype: float64"
      ]
     },
     "execution_count": 21,
     "metadata": {},
     "output_type": "execute_result"
    }
   ],
   "source": [
    "# Know the features' relative score with each other\n",
    "feature_imp = pd.Series(clf.feature_importances_,index=feature_cols).sort_values(ascending=False)\n",
    "feature_imp"
   ]
  },
  {
   "cell_type": "code",
   "execution_count": 22,
   "metadata": {
    "colab": {},
    "colab_type": "code",
    "id": "PDvuba1J2uV3"
   },
   "outputs": [
    {
     "name": "stderr",
     "output_type": "stream",
     "text": [
      "No handles with labels found to put in legend.\n"
     ]
    },
    {
     "data": {
      "image/png": "[encoded data removed]",
      "text/plain": [
       "<matplotlib.figure.Figure at 0x7fc69cfd76a0>"
      ]
     },
     "metadata": {},
     "output_type": "display_data"
    }
   ],
   "source": [
    "# Visualize using matplotlib and seaborn\n",
    "# Creating a bar plot\n",
    "sns.barplot(x=feature_imp, y=feature_imp.index)\n",
    "# Add labels to your graph\n",
    "plt.xlabel('Feature Importance Score')\n",
    "plt.ylabel('Features')\n",
    "plt.title(\"Visualizing Important Features\")\n",
    "plt.legend()\n",
    "plt.show()"
   ]
  },
  {
   "cell_type": "markdown",
   "metadata": {
    "colab_type": "text",
    "id": "mj-rGqXn2w3G"
   },
   "source": [
    "Generating the model based on selected features"
   ]
  },
  {
   "cell_type": "code",
   "execution_count": 23,
   "metadata": {
    "colab": {
     "base_uri": "https://localhost:8080/",
     "height": 378
    },
    "colab_type": "code",
    "id": "dUuNMEdp2yGR",
    "outputId": "3ffb94f8-788e-477e-ca2d-f5b433cef602"
   },
   "outputs": [
    {
     "name": "stderr",
     "output_type": "stream",
     "text": [
      "/home/nbuser/anaconda3_420/lib/python3.5/site-packages/sklearn/cross_validation.py:41: DeprecationWarning: This module was deprecated in version 0.18 in favor of the model_selection module into which all the refactored classes and functions are moved. Also note that the interface of the new CV iterators are different from that of this module. This module will be removed in 0.20.\n",
      "  \"This module will be removed in 0.20.\", DeprecationWarning)\n"
     ]
    }
   ],
   "source": [
    "# Import train_test_split function\n",
    "from sklearn.cross_validation import train_test_split\n",
    "# Split dataset into features and labels\n",
    "X2=df[['A1', 'A2', 'A3', 'A4', 'A5', 'A6', 'A7', 'A8', 'A9', 'A10',\n",
    "       'Age_Mons', 'Qchat-10-Score', 'Sex', 'Family_mem_with_ASD', 'Who completed the test']]\n",
    "      # Removed feature \"'Jaundice', 'Case_no', 'Ethnicity'\"\n",
    "y2=df['Class/ASD Traits '] # Target\n",
    "# Split dataset into training set and test set\n",
    "X2_train, X2_test, y2_train, y2_test = train_test_split(X2, y2, test_size=0.70, random_state=5) # 70% training and 30% test"
   ]
  },
  {
   "cell_type": "markdown",
   "metadata": {
    "colab_type": "text",
    "id": "u6GYMSxP20kq"
   },
   "source": [
    "Compare with previous version of model"
   ]
  },
  {
   "cell_type": "code",
   "execution_count": 24,
   "metadata": {
    "colab": {},
    "colab_type": "code",
    "id": "F5Fu35Cp24M8"
   },
   "outputs": [
    {
     "name": "stdout",
     "output_type": "stream",
     "text": [
      "Accuracy: 1.0\n"
     ]
    }
   ],
   "source": [
    "from sklearn.ensemble import RandomForestClassifier\n",
    "\n",
    "#Create a Gaussian Classifier\n",
    "clf=RandomForestClassifier(n_estimators=100, criterion='gini')\n",
    "\n",
    "#Train the model using the training sets y_pred=clf.predict(X_test)\n",
    "clf.fit(X2_train,y2_train)\n",
    "\n",
    "# prediction on test set\n",
    "y2_pred=clf.predict(X2_test)\n",
    "\n",
    "#Import scikit-learn metrics module for accuracy calculation\n",
    "from sklearn import metrics\n",
    "# Model Accuracy, how often is the classifier correct?\n",
    "print(\"Accuracy:\",metrics.accuracy_score(y2_test, y2_pred))"
   ]
  },
  {
   "cell_type": "code",
   "execution_count": 25,
   "metadata": {},
   "outputs": [
    {
     "data": {
      "text/plain": [
       "array([[225,   0],\n",
       "       [  0, 513]])"
      ]
     },
     "execution_count": 25,
     "metadata": {},
     "output_type": "execute_result"
    }
   ],
   "source": [
    "# import the metrics class\n",
    "# from sklearn import metrics # done already\n",
    "cnf_matrix2 = metrics.confusion_matrix(y2_test, y2_pred)\n",
    "cnf_matrix2"
   ]
  },
  {
   "cell_type": "markdown",
   "metadata": {
    "colab_type": "text",
    "id": "ftDBRZEFfkMF"
   },
   "source": [
    "### Result"
   ]
  },
  {
   "cell_type": "code",
   "execution_count": 26,
   "metadata": {},
   "outputs": [
    {
     "data": {
      "text/plain": [
       "<matplotlib.axes._subplots.AxesSubplot at 0x7fc69cb73c88>"
      ]
     },
     "execution_count": 26,
     "metadata": {},
     "output_type": "execute_result"
    },
    {
     "data": {
      "image/png": "[encoded data removed]",
      "text/plain": [
       "<matplotlib.figure.Figure at 0x7fc69cb734e0>"
      ]
     },
     "metadata": {},
     "output_type": "display_data"
    }
   ],
   "source": [
    "# Compute the correlation matrix\n",
    "corr = df.corr()\n",
    "\n",
    "# Generate a mask for the upper triangle\n",
    "mask = np.zeros_like(corr, dtype=np.bool)\n",
    "mask[np.triu_indices_from(mask)] = True\n",
    "\n",
    "# Set up the matplotlib figure\n",
    "f, ax = plt.subplots(figsize=(11, 9))\n",
    "\n",
    "# Generate a custom diverging colormap\n",
    "cmap = sns.diverging_palette(220, 10, as_cmap=True)\n",
    "\n",
    "# Draw the heatmap with the mask and correct aspect ratio\n",
    "sns.heatmap(corr, mask=mask, cmap=cmap, vmax=.3, center=0,\n",
    "            square=True, linewidths=.5, cbar_kws={\"shrink\": .5})"
   ]
  },
  {
   "cell_type": "code",
   "execution_count": 27,
   "metadata": {
    "colab": {
     "base_uri": "https://localhost:8080/",
     "height": 338
    },
    "colab_type": "code",
    "id": "gr00TvaI30pc",
    "outputId": "03be66d9-048a-4d78-bbc1-c03455fd7225"
   },
   "outputs": [
    {
     "data": {
      "text/plain": [
       "Text(0.5,257.44,'Predicted label')"
      ]
     },
     "execution_count": 27,
     "metadata": {},
     "output_type": "execute_result"
    },
    {
     "data": {
      "image/png": "[encoded data removed]",
      "text/plain": [
       "<matplotlib.figure.Figure at 0x7fc69c7fd9b0>"
      ]
     },
     "metadata": {},
     "output_type": "display_data"
    }
   ],
   "source": [
    "# Here you will visualize confusion matrix using heat map\n",
    "class_names=[0,1] # name  of classes\n",
    "fig, ax = plt.subplots()\n",
    "tick_marks = np.arange(len(class_names))\n",
    "plt.xticks(tick_marks, class_names)\n",
    "plt.yticks(tick_marks, class_names)\n",
    "\n",
    "# create heatmap\n",
    "sns.heatmap(pd.DataFrame(cnf_matrix), annot=True, cmap=\"YlGnBu\" ,fmt='g')\n",
    "ax.xaxis.set_label_position(\"top\")\n",
    "plt.tight_layout()\n",
    "plt.title('Confusion matrix for Logistic Regression', y=1.1)\n",
    "plt.ylabel('Actual label')\n",
    "plt.xlabel('Predicted label')"
   ]
  },
  {
   "cell_type": "code",
   "execution_count": 28,
   "metadata": {},
   "outputs": [
    {
     "data": {
      "text/plain": [
       "Text(0.5,257.44,'Predicted label')"
      ]
     },
     "execution_count": 28,
     "metadata": {},
     "output_type": "execute_result"
    },
    {
     "data": {
      "image/png": "[encoded data removed]",
      "text/plain": [
       "<matplotlib.figure.Figure at 0x7fc69c75f160>"
      ]
     },
     "metadata": {},
     "output_type": "display_data"
    }
   ],
   "source": [
    "# Here you will visualize confusion matrix using heat map\n",
    "class_names=[0,1] # name  of classes\n",
    "fig, ax = plt.subplots()\n",
    "tick_marks = np.arange(len(class_names))\n",
    "plt.xticks(tick_marks, class_names)\n",
    "plt.yticks(tick_marks, class_names)\n",
    "\n",
    "# create heatmap\n",
    "sns.heatmap(pd.DataFrame(cnf_matrix2), annot=True, cmap=\"YlGnBu\" ,fmt='g')\n",
    "ax.xaxis.set_label_position(\"top\")\n",
    "plt.tight_layout()\n",
    "plt.title('Confusion matrix for Random Forest', y=1.1)\n",
    "plt.ylabel('Actual label')\n",
    "plt.xlabel('Predicted label')"
   ]
  },
  {
   "cell_type": "markdown",
   "metadata": {
    "colab_type": "text",
    "id": "OuZV449m3AsO"
   },
   "source": [
    "### Conclusion\n",
    "\n",
    "This simluation shows us the results of both the ML algorithms: 'Logistic Regression' and 'Random Forest'. \n",
    "\n",
    "Linear models are composed of one or multiple independent variables that describes a relationship to a dependent response variable. \n",
    "Mapping qualitative or quantitative input features to a target variable that is attempted to being predicted such as financial, biological, or sociological data is known as supervised learning in machine learning terminology if the labels are known. \n",
    "One of the most common utilized linear statistical models for discriminant analysis is logistic regression. \n",
    "This algorithm has poorer boundary mapping capability than the two. \n",
    "Logistic Regression gives up accuracy for model interpretability.\n",
    "\n",
    "Random forest is an ensemble-based learning algorithm which is comprised of n collections of de-correlated decision trees. \n",
    "It is built off the idea of bootstrap aggregation, which is a method for resampling with replacement in order to reduce variance. \n",
    "Random Forest uses multiple trees to average (regression) or compute majority votes (classification) in the terminal leaf nodes when making a prediction. \n",
    "Built off the idea of decision trees, random forest models have resulted in significant improvements in prediction accuracy as compared to a single tree by growing 'n' number of trees; each tree in the training set is sampled randomly without replacement. \n",
    "Decision trees consist simply of a tree-like structure where the top node is considered the root of the tree that is recursively split at a series of decision nodes from the root until the terminal node or decision node is reached. \n",
    "This algorithm has a very good boundary shaping capability.\n",
    "Random Forest sacrifices interpretability for accuracy of model.\n",
    "\n",
    "So, applications where interpretation of the model is of importance, use Logistic Regerssion. While Random Forest is used for better model fitting on the data."
   ]
  }
 ],
 "metadata": {
  "colab": {
   "collapsed_sections": [
    "z4J-kDCmfmx0"
   ],
   "name": "ASD-STC-project2.ipynb",
   "provenance": [],
   "toc_visible": true
  },
  "kernelspec": {
   "display_name": "Python 3",
   "language": "python",
   "name": "python3"
  },
  "language_info": {
   "codemirror_mode": {
    "name": "ipython",
    "version": 3
   },
   "file_extension": ".py",
   "mimetype": "text/x-python",
   "name": "python",
   "nbconvert_exporter": "python",
   "pygments_lexer": "ipython3",
   "version": "3.5.4"
  }
 },
 "nbformat": 4,
 "nbformat_minor": 1
}
